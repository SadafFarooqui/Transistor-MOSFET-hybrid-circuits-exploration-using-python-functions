{
 "cells": [
  {
   "cell_type": "code",
   "execution_count": 5,
   "id": "050ed0da",
   "metadata": {},
   "outputs": [],
   "source": [
    "def changeMRpoles(row_number):\n",
    "    from openpyxl import Workbook\n",
    "    import openpyxl\n",
    "    path = r\"C:\\Users\\user122\\Desktop\\ANDcircuits.xlsx\"\n",
    "    wb_obj = openpyxl.load_workbook(path)\n",
    "    wb_obj = openpyxl.load_workbook(path)\n",
    "    sheet_obj = wb_obj.active\n",
    "    cell_obj = sheet_obj.cell(row = row_number, column = 1)\n",
    "    argv=cell_obj.value\n",
    "    argv=argv.split('\\n')\n",
    "    nets=[]\n",
    "    for n in argv:\n",
    "        n=n.split()\n",
    "        nets.extend([n])\n",
    "\n",
    "    \n",
    "    for i in nets:\n",
    "        if (i[-1]==\"MR\"):\n",
    "            temp=i[1]\n",
    "            i[1]=i[2]\n",
    "            i[2]=temp\n",
    "    print (nets)\n",
    "    "
   ]
  },
  {
   "cell_type": "code",
   "execution_count": 6,
   "id": "1804d79f",
   "metadata": {},
   "outputs": [
    {
     "name": "stdout",
     "output_type": "stream",
     "text": [
      "[['M0001', 'OUT01', 'IN001', 'MR'], ['M0002', 'OUT01', 'IN002', 'MR']]\n"
     ]
    }
   ],
   "source": [
    "changeMRpoles(1)"
   ]
  },
  {
   "cell_type": "code",
   "execution_count": 14,
   "id": "dca76e30",
   "metadata": {},
   "outputs": [],
   "source": [
    "def changeMOSFET(row_number):\n",
    "    from openpyxl import Workbook\n",
    "    import openpyxl\n",
    "    path = r\"C:\\Users\\user122\\Desktop\\ANDcircuits.xlsx\"\n",
    "    wb_obj = openpyxl.load_workbook(path)\n",
    "    wb_obj = openpyxl.load_workbook(path)\n",
    "    sheet_obj = wb_obj.active\n",
    "    cell_obj = sheet_obj.cell(row = row_number, column = 1)\n",
    "    argv=cell_obj.value\n",
    "    argv=argv.split('\\n')\n",
    "    nets=[]\n",
    "    for n in argv:\n",
    "        n=n.split()\n",
    "        nets.extend([n])\n",
    "    for i in nets:\n",
    "        if (i[-1]==\"PMOS\"):\n",
    "            i[-1]=\"NMOS\"\n",
    "            i[-2]=\"GND\"\n",
    "        elif (i[-1]==\"NMOS\"):\n",
    "            i[-1]=\"PMOS\"\n",
    "            i[-2]=\"VDD\"\n",
    "    \n",
    "    \n",
    "            \n",
    "    print (nets)\n",
    "    "
   ]
  },
  {
   "cell_type": "code",
   "execution_count": 15,
   "id": "13652d0e",
   "metadata": {},
   "outputs": [
    {
     "name": "stdout",
     "output_type": "stream",
     "text": [
      "[['M0001', 'N0001', 'IN001', 'IN002', 'VDD', 'PMOS'], ['M0002', 'IN001', 'OUT01', 'MR'], ['M0003', 'OUT01', 'N0001', 'MR']]\n"
     ]
    }
   ],
   "source": [
    "changeMOSFET(2)"
   ]
  },
  {
   "cell_type": "code",
   "execution_count": 17,
   "id": "68316969",
   "metadata": {},
   "outputs": [],
   "source": [
    "def findreplace(row_number):\n",
    "    from openpyxl import Workbook\n",
    "    import openpyxl\n",
    "    path = r\"C:\\Users\\user122\\Desktop\\ANDcircuits.xlsx\"\n",
    "    wb_obj = openpyxl.load_workbook(path)\n",
    "    wb_obj = openpyxl.load_workbook(path)\n",
    "    sheet_obj = wb_obj.active\n",
    "    cell_obj = sheet_obj.cell(row = row_number, column = 1)\n",
    "    argv=cell_obj.value\n",
    "    argv=argv.split('\\n')\n",
    "    nets=[]\n",
    "    for n in argv:\n",
    "        n=n.split()\n",
    "        nets.extend([n])\n",
    "    \n",
    "    device=input(\"Enter the device number\")\n",
    "    a=input(\"Enter the Net to be replaced\")\n",
    "    replacement=input(\"Enter the replacememt of the net\")\n",
    "    \n",
    "    for i in nets:\n",
    "        if i[0]==device:\n",
    "            indexb=nets.index(i)\n",
    "            \n",
    "            \n",
    "   \n",
    "    listb=nets[indexb]\n",
    "    indexa=listb.index(a)\n",
    "    nets[indexb][indexa]=replacement\n",
    "    print(nets)\n",
    "    "
   ]
  },
  {
   "cell_type": "code",
   "execution_count": 18,
   "id": "f0cfd20c",
   "metadata": {},
   "outputs": [
    {
     "name": "stdout",
     "output_type": "stream",
     "text": [
      "Enter the device numberM0001\n",
      "Enter the Net to be replacedIN001\n",
      "Enter the replacememt of the netVDD\n",
      "[['M0001', 'VDD', 'OUT01', 'MR'], ['M0002', 'IN002', 'OUT01', 'MR']]\n"
     ]
    }
   ],
   "source": [
    "findreplace(1)"
   ]
  },
  {
   "cell_type": "code",
   "execution_count": null,
   "id": "addffe47",
   "metadata": {},
   "outputs": [],
   "source": []
  }
 ],
 "metadata": {
  "kernelspec": {
   "display_name": "Python 3",
   "language": "python",
   "name": "python3"
  },
  "language_info": {
   "codemirror_mode": {
    "name": "ipython",
    "version": 3
   },
   "file_extension": ".py",
   "mimetype": "text/x-python",
   "name": "python",
   "nbconvert_exporter": "python",
   "pygments_lexer": "ipython3",
   "version": "3.8.8"
  }
 },
 "nbformat": 4,
 "nbformat_minor": 5
}
